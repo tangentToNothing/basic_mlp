{
 "cells": [
  {
   "cell_type": "code",
   "execution_count": 1,
   "metadata": {
    "collapsed": true
   },
   "outputs": [],
   "source": [
    "from neural_networ import MLP_NeuralNetwork\n",
    "import numpy as np\n",
    "import matplotlib.pyplot as plt\n",
    "\n",
    "def load_data2():\n",
    "    data = np.loadtxt('elastic_multi1_no_heads.txt')\n",
    "\n",
    "    out = []\n",
    "\n",
    "    data_normed = data / data.max(axis=0)\n",
    "    y_max = data.max(axis=0)[-1]\n",
    "    for i in range(data_normed.shape[0]):\n",
    "        fart = list((data_normed[i,0:-1].tolist(), [data_normed[i,-1]])) # don't mind this variable name\n",
    "        out.append(fart)\n",
    "\n",
    "    return out, y_max"
   ]
  },
  {
   "cell_type": "code",
   "execution_count": 2,
   "metadata": {
    "collapsed": true
   },
   "outputs": [],
   "source": [
    "out, y = load_data2()\n"
   ]
  },
  {
   "cell_type": "code",
   "execution_count": 3,
   "metadata": {},
   "outputs": [
    {
     "data": {
      "text/plain": [
       "list"
      ]
     },
     "execution_count": 3,
     "metadata": {},
     "output_type": "execute_result"
    }
   ],
   "source": [
    "type(out)"
   ]
  },
  {
   "cell_type": "code",
   "execution_count": 4,
   "metadata": {},
   "outputs": [
    {
     "data": {
      "text/plain": [
       "[[0.026714840266572785,\n",
       "  0.005743818476706518,\n",
       "  0.028337872940829033,\n",
       "  0.04427644537402008,\n",
       "  0.010972106361989505,\n",
       "  0.026326732785684683,\n",
       "  0.03202007909948281],\n",
       " [0.23404255319148937]]"
      ]
     },
     "execution_count": 4,
     "metadata": {},
     "output_type": "execute_result"
    }
   ],
   "source": [
    "out[0]"
   ]
  },
  {
   "cell_type": "code",
   "execution_count": 5,
   "metadata": {},
   "outputs": [
    {
     "data": {
      "text/plain": [
       "array([[  6.22067030e+07,   3.22453430e+07,   6.11044000e+05, ...,\n",
       "          2.22594000e+05,   4.21000000e+02,   6.60000000e+00],\n",
       "       [  7.74019270e+07,   6.13202890e+07,   8.22194000e+05, ...,\n",
       "          5.95585000e+05,   1.39200000e+03,   6.10000000e+00],\n",
       "       [  3.44672658e+08,   2.71884884e+08,   5.37188400e+06, ...,\n",
       "          2.78247600e+06,   5.39200000e+03,   7.60000000e+00],\n",
       "       ..., \n",
       "       [  1.69423914e+08,   1.56436867e+08,   2.10256100e+06, ...,\n",
       "          8.96127000e+05,   4.45300000e+03,   7.10000000e+00],\n",
       "       [  9.06980320e+07,   5.42626520e+07,   1.28981400e+06, ...,\n",
       "          5.14469000e+05,   4.17200000e+03,   6.20000000e+00],\n",
       "       [  9.37266820e+07,   6.53839280e+07,   1.22814300e+06, ...,\n",
       "          6.38958000e+05,   3.05000000e+03,   6.90000000e+00]])"
      ]
     },
     "execution_count": 5,
     "metadata": {},
     "output_type": "execute_result"
    }
   ],
   "source": [
    "np.loadtxt('elastic_multi1_no_heads.txt')"
   ]
  },
  {
   "cell_type": "code",
   "execution_count": 6,
   "metadata": {
    "collapsed": true
   },
   "outputs": [],
   "source": [
    "with(open('elastic_multi1_no_heads.txt', 'rb')) as f:\n",
    "    datalines = f.readlines()"
   ]
  },
  {
   "cell_type": "code",
   "execution_count": 7,
   "metadata": {},
   "outputs": [
    {
     "data": {
      "text/plain": [
       "'62206703     32245343     611044           95558        5641681    222594        421          6.6\\n'"
      ]
     },
     "execution_count": 7,
     "metadata": {},
     "output_type": "execute_result"
    }
   ],
   "source": [
    "datalines[0]"
   ]
  },
  {
   "cell_type": "code",
   "execution_count": 10,
   "metadata": {},
   "outputs": [
    {
     "data": {
      "text/plain": [
       "['62206703', '32245343', '611044', '95558', '5641681', '222594', '421', '6.6']"
      ]
     },
     "execution_count": 10,
     "metadata": {},
     "output_type": "execute_result"
    }
   ],
   "source": [
    "datalines[0].split()"
   ]
  },
  {
   "cell_type": "code",
   "execution_count": 11,
   "metadata": {},
   "outputs": [
    {
     "data": {
      "text/plain": [
       "['62206703', '32245343', '611044', '95558', '5641681', '222594', '421']"
      ]
     },
     "execution_count": 11,
     "metadata": {},
     "output_type": "execute_result"
    }
   ],
   "source": [
    "datalines[0].split()[0:-1]"
   ]
  },
  {
   "cell_type": "code",
   "execution_count": 13,
   "metadata": {},
   "outputs": [],
   "source": [
    "data_dict = []\n",
    "\n",
    "for data in datalines:\n",
    "    split_data = data.split()\n",
    "    x_vals = split_data[0:-1]\n",
    "    data_dict.append({\"y\": split_data[-1], \"x_values\": x_vals})"
   ]
  },
  {
   "cell_type": "code",
   "execution_count": 14,
   "metadata": {},
   "outputs": [
    {
     "data": {
      "text/plain": [
       "{'x_values': ['62206703',\n",
       "  '32245343',\n",
       "  '611044',\n",
       "  '95558',\n",
       "  '5641681',\n",
       "  '222594',\n",
       "  '421'],\n",
       " 'y': '6.6'}"
      ]
     },
     "execution_count": 14,
     "metadata": {},
     "output_type": "execute_result"
    }
   ],
   "source": [
    "data_dict[0]"
   ]
  },
  {
   "cell_type": "code",
   "execution_count": null,
   "metadata": {
    "collapsed": true
   },
   "outputs": [],
   "source": [
    "import pickle\n",
    "\n"
   ]
  }
 ],
 "metadata": {
  "kernelspec": {
   "display_name": "Python 2",
   "language": "python",
   "name": "python2"
  },
  "language_info": {
   "codemirror_mode": {
    "name": "ipython",
    "version": 2
   },
   "file_extension": ".py",
   "mimetype": "text/x-python",
   "name": "python",
   "nbconvert_exporter": "python",
   "pygments_lexer": "ipython2",
   "version": "2.7.13"
  }
 },
 "nbformat": 4,
 "nbformat_minor": 2
}
